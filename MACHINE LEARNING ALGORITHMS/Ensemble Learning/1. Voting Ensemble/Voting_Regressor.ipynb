{
 "cells": [
  {
   "cell_type": "code",
   "execution_count": 21,
   "id": "8dec80d8",
   "metadata": {},
   "outputs": [],
   "source": [
    "import numpy as np"
   ]
  },
  {
   "cell_type": "code",
   "execution_count": 22,
   "id": "267b48c3",
   "metadata": {},
   "outputs": [],
   "source": [
    "from sklearn.datasets import load_diabetes\n"
   ]
  },
  {
   "cell_type": "code",
   "execution_count": 23,
   "id": "6e631f0e",
   "metadata": {},
   "outputs": [],
   "source": [
    "data = load_diabetes()\n",
    "X = data.data\n",
    "y = data.target"
   ]
  },
  {
   "cell_type": "code",
   "execution_count": 24,
   "id": "370d31c5",
   "metadata": {},
   "outputs": [
    {
     "data": {
      "text/plain": [
       "(442, 10)"
      ]
     },
     "execution_count": 24,
     "metadata": {},
     "output_type": "execute_result"
    }
   ],
   "source": [
    "X.shape"
   ]
  },
  {
   "cell_type": "code",
   "execution_count": 25,
   "id": "242ce1dd",
   "metadata": {},
   "outputs": [
    {
     "data": {
      "text/plain": [
       "(442,)"
      ]
     },
     "execution_count": 25,
     "metadata": {},
     "output_type": "execute_result"
    }
   ],
   "source": [
    "y.shape"
   ]
  },
  {
   "cell_type": "code",
   "execution_count": 26,
   "id": "8effeb26",
   "metadata": {},
   "outputs": [
    {
     "data": {
      "text/plain": [
       "array([[ 0.03807591,  0.05068012,  0.06169621, ..., -0.00259226,\n",
       "         0.01990749, -0.01764613],\n",
       "       [-0.00188202, -0.04464164, -0.05147406, ..., -0.03949338,\n",
       "        -0.06833155, -0.09220405],\n",
       "       [ 0.08529891,  0.05068012,  0.04445121, ..., -0.00259226,\n",
       "         0.00286131, -0.02593034],\n",
       "       ...,\n",
       "       [ 0.04170844,  0.05068012, -0.01590626, ..., -0.01107952,\n",
       "        -0.04688253,  0.01549073],\n",
       "       [-0.04547248, -0.04464164,  0.03906215, ...,  0.02655962,\n",
       "         0.04452873, -0.02593034],\n",
       "       [-0.04547248, -0.04464164, -0.0730303 , ..., -0.03949338,\n",
       "        -0.00422151,  0.00306441]])"
      ]
     },
     "execution_count": 26,
     "metadata": {},
     "output_type": "execute_result"
    }
   ],
   "source": [
    "X"
   ]
  },
  {
   "cell_type": "code",
   "execution_count": 27,
   "id": "9a8852e3",
   "metadata": {},
   "outputs": [],
   "source": [
    "from sklearn.linear_model import LinearRegression\n",
    "from sklearn.tree import DecisionTreeRegressor\n",
    "from sklearn.svm import SVR\n",
    "from sklearn.model_selection import cross_val_score"
   ]
  },
  {
   "cell_type": "code",
   "execution_count": 28,
   "id": "1226e24b",
   "metadata": {},
   "outputs": [],
   "source": [
    "lr = LinearRegression()\n",
    "dt = DecisionTreeRegressor()\n",
    "svr = SVR()"
   ]
  },
  {
   "cell_type": "code",
   "execution_count": 30,
   "id": "f9aa5999",
   "metadata": {},
   "outputs": [],
   "source": [
    "estimators = [('lr',lr),('dt',dt),('svr',svr)]"
   ]
  },
  {
   "cell_type": "code",
   "execution_count": 31,
   "id": "0fa634b5",
   "metadata": {},
   "outputs": [
    {
     "name": "stdout",
     "output_type": "stream",
     "text": [
      "lr 0.46\n",
      "dt -0.23\n",
      "svr 0.15\n"
     ]
    }
   ],
   "source": [
    "for estimator in estimators:\n",
    "    scores = cross_val_score(estimator[1],X,y,scoring='r2',cv=10)\n",
    "    print(estimator[0],np.round(np.mean(scores),2))"
   ]
  },
  {
   "cell_type": "code",
   "execution_count": 32,
   "id": "dcb45737",
   "metadata": {},
   "outputs": [],
   "source": [
    "from sklearn.ensemble import VotingRegressor"
   ]
  },
  {
   "cell_type": "code",
   "execution_count": 33,
   "id": "cefe7064",
   "metadata": {},
   "outputs": [
    {
     "name": "stdout",
     "output_type": "stream",
     "text": [
      "Voting Regressor 0.34\n"
     ]
    }
   ],
   "source": [
    "vr = VotingRegressor(estimators)\n",
    "score = cross_val_score(vr,X,y,scoring='r2',cv=10)\n",
    "print(\"Voting Regressor\",np.round(np.mean(score),2))"
   ]
  },
  {
   "cell_type": "code",
   "execution_count": 34,
   "id": "3635d68e",
   "metadata": {},
   "outputs": [
    {
     "name": "stdout",
     "output_type": "stream",
     "text": [
      "for i=1 , j=1 , k=1 0.15\n",
      "for i=1 , j=1 , k=2 0.15\n",
      "for i=1 , j=1 , k=3 0.15\n",
      "for i=1 , j=2 , k=1 0.15\n",
      "for i=1 , j=2 , k=2 0.15\n",
      "for i=1 , j=2 , k=3 0.15\n",
      "for i=1 , j=3 , k=1 0.15\n",
      "for i=1 , j=3 , k=2 0.15\n",
      "for i=1 , j=3 , k=3 0.15\n",
      "for i=2 , j=1 , k=1 0.15\n",
      "for i=2 , j=1 , k=2 0.15\n",
      "for i=2 , j=1 , k=3 0.15\n",
      "for i=2 , j=2 , k=1 0.15\n",
      "for i=2 , j=2 , k=2 0.15\n",
      "for i=2 , j=2 , k=3 0.15\n",
      "for i=2 , j=3 , k=1 0.15\n",
      "for i=2 , j=3 , k=2 0.15\n",
      "for i=2 , j=3 , k=3 0.15\n",
      "for i=3 , j=1 , k=1 0.15\n",
      "for i=3 , j=1 , k=2 0.15\n",
      "for i=3 , j=1 , k=3 0.15\n",
      "for i=3 , j=2 , k=1 0.15\n",
      "for i=3 , j=2 , k=2 0.15\n",
      "for i=3 , j=2 , k=3 0.15\n",
      "for i=3 , j=3 , k=1 0.15\n",
      "for i=3 , j=3 , k=2 0.15\n",
      "for i=3 , j=3 , k=3 0.15\n"
     ]
    }
   ],
   "source": [
    "for i in range(1,4):\n",
    "    for j in range(1,4):\n",
    "        for k in range(1,4):\n",
    "            vc = VotingRegressor(estimators,weights=[i,j,k])\n",
    "            x = cross_val_score(vr,X,y,scoring='r2',cv=10)\n",
    "            print(\"for i={} , j={} , k={}\".format(i,j,k),np.round(np.mean(scores),2))"
   ]
  },
  {
   "cell_type": "code",
   "execution_count": 35,
   "id": "5774a9ba",
   "metadata": {},
   "outputs": [],
   "source": [
    "# Using the same algorithm\n",
    "\n",
    "dt1 = DecisionTreeRegressor(max_depth=1)\n",
    "dt2 = DecisionTreeRegressor(max_depth=2)\n",
    "dt3 = DecisionTreeRegressor(max_depth=3)\n",
    "dt4 = DecisionTreeRegressor(max_depth=4)\n",
    "dt5 = DecisionTreeRegressor(max_depth=None)"
   ]
  },
  {
   "cell_type": "code",
   "execution_count": 36,
   "id": "e1afd840",
   "metadata": {},
   "outputs": [],
   "source": [
    "estimators = [('dt1',dt1),('dt2',dt2),('dt3',dt3),('dt4',dt4),('dt5',dt5)]"
   ]
  },
  {
   "cell_type": "code",
   "execution_count": 37,
   "id": "31f84d70",
   "metadata": {},
   "outputs": [
    {
     "name": "stdout",
     "output_type": "stream",
     "text": [
      "dt1 0.15\n",
      "dt2 0.15\n",
      "dt3 0.15\n",
      "dt4 0.15\n",
      "dt5 0.15\n"
     ]
    }
   ],
   "source": [
    "for estimator in estimators:\n",
    "    score = cross_val_score(estimator[1],X,y,scoring='r2',cv=10)\n",
    "    print(estimator[0],np.round(np.mean(scores),2))"
   ]
  },
  {
   "cell_type": "code",
   "execution_count": 38,
   "id": "f8ca9bfa",
   "metadata": {},
   "outputs": [
    {
     "name": "stdout",
     "output_type": "stream",
     "text": [
      "Voting Regressor 0.3\n"
     ]
    }
   ],
   "source": [
    "vr = VotingRegressor(estimators)\n",
    "score = cross_val_score(vr,X,y,scoring='r2',cv=10)\n",
    "print(\"Voting Regressor\",np.round(np.mean(score),2))"
   ]
  }
 ],
 "metadata": {
  "kernelspec": {
   "display_name": "base",
   "language": "python",
   "name": "python3"
  },
  "language_info": {
   "codemirror_mode": {
    "name": "ipython",
    "version": 3
   },
   "file_extension": ".py",
   "mimetype": "text/x-python",
   "name": "python",
   "nbconvert_exporter": "python",
   "pygments_lexer": "ipython3",
   "version": "3.12.4"
  }
 },
 "nbformat": 4,
 "nbformat_minor": 5
}
